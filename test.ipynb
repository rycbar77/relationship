{
 "cells": [
  {
   "cell_type": "code",
   "execution_count": 1,
   "metadata": {
    "collapsed": true
   },
   "outputs": [],
   "source": [
    "import pandas as pd\n",
    "from matplotlib import pyplot as plt\n",
    "import matplotlib.font_manager as fm\n",
    "import numpy as np\n",
    "from pprint import pprint"
   ]
  },
  {
   "cell_type": "code",
   "execution_count": 2,
   "outputs": [],
   "source": [
    "font = fm.FontProperties(fname='SimSun.ttf')\n",
    "with open('name_dict.txt', encoding='utf-8') as f1:\n",
    "    names = f1.readlines()\n",
    "with open('content_cut.txt', encoding='utf-8') as f2:\n",
    "    content = f2.read()"
   ],
   "metadata": {
    "collapsed": false,
    "pycharm": {
     "name": "#%%\n"
    }
   }
  },
  {
   "cell_type": "code",
   "execution_count": 3,
   "outputs": [
    {
     "name": "stdout",
     "output_type": "stream",
     "text": [
      "{'丁义珍': 105,\n",
      " '丁义珍司机': 0,\n",
      " '丁妻': 0,\n",
      " '丁海峰': 0,\n",
      " '丁秀萍': 6,\n",
      " '于诚群': 0,\n",
      " '交警': 3,\n",
      " '何阿三': 4,\n",
      " '侯亮平': 486,\n",
      " '侯亮平司机': 0,\n",
      " '便衣警察': 0,\n",
      " '出租车司机': 0,\n",
      " '刘姗': 0,\n",
      " '刘局长': 0,\n",
      " '刘新建': 72,\n",
      " '刘生': 3,\n",
      " '刘若谷': 0,\n",
      " '办证人': 0,\n",
      " '包云飞': 0,\n",
      " '华人女老板': 0,\n",
      " '司机小钱': 2,\n",
      " '吕梁': 25,\n",
      " '吴心仪': 6,\n",
      " '吴惠芬': 43,\n",
      " '吴春林': 3,\n",
      " '周桂春': 0,\n",
      " '周正': 23,\n",
      " '大汉乙': 0,\n",
      " '大汉甲': 0,\n",
      " '头目乙': 0,\n",
      " '孙妻': 0,\n",
      " '孙海平': 5,\n",
      " '孙连城': 22,\n",
      " '季昌明': 65,\n",
      " '小学校长': 0,\n",
      " '小皮球': 24,\n",
      " '尤瑞星': 18,\n",
      " '工人小陈': 0,\n",
      " '工头': 0,\n",
      " '常委乙': 0,\n",
      " '常委甲': 0,\n",
      " '常成虎': 6,\n",
      " '张主任': 0,\n",
      " '张天峰': 0,\n",
      " '律师甲': 0,\n",
      " '拳击教练': 0,\n",
      " '易学习': 52,\n",
      " '李总': 0,\n",
      " '李昕岳': 0,\n",
      " '李梁': 0,\n",
      " '李达康': 226,\n",
      " '李达康司机': 0,\n",
      " '杜伯仲': 17,\n",
      " '林华华': 44,\n",
      " '林建国': 0,\n",
      " '林老师': 0,\n",
      " '梁璐': 26,\n",
      " '欧阳培龙': 0,\n",
      " '欧阳菁': 83,\n",
      " '毕敬业': 4,\n",
      " '毛娅': 8,\n",
      " '汤成兰': 1,\n",
      " '沈晓海': 0,\n",
      " '沙瑞金': 150,\n",
      " '法官乙': 0,\n",
      " '法官甲': 0,\n",
      " '渔家女乙': 0,\n",
      " '渔家女甲': 0,\n",
      " '烟店老板': 0,\n",
      " '照相师': 0,\n",
      " '王主任': 0,\n",
      " '王国风': 0,\n",
      " '王大路': 26,\n",
      " '王少林': 0,\n",
      " '王总': 0,\n",
      " '王文革': 13,\n",
      " '王老板': 0,\n",
      " '王院长': 0,\n",
      " '王馥真': 4,\n",
      " '田主任': 0,\n",
      " '田国富': 35,\n",
      " '田杏枝': 0,\n",
      " '白处长': 0,\n",
      " '看门人': 0,\n",
      " '眼镜王': 0,\n",
      " '祁同伟': 202,\n",
      " '秃顶男': 0,\n",
      " '秦奔': 1,\n",
      " '程度': 41,\n",
      " '纪委干部': 0,\n",
      " '纪检干部': 0,\n",
      " '老陈主任': 0,\n",
      " '肖钢玉': 22,\n",
      " '花斑虎': 8,\n",
      " '蔡成功': 152,\n",
      " '蔡成功妻': 0,\n",
      " '蔡英俊': 3,\n",
      " '警察乙': 0,\n",
      " '警察甲': 0,\n",
      " '财政局长': 0,\n",
      " '贺秘书': 0,\n",
      " '赵徳汉': 0,\n",
      " '赵德汉儿子': 0,\n",
      " '赵德汉妻': 1,\n",
      " '赵瑞龙': 107,\n",
      " '车老板': 0,\n",
      " '郑西坡': 91,\n",
      " '郝光': 0,\n",
      " '钟小艾': 32,\n",
      " '钱律师': 1,\n",
      " '钱秘书长': 5,\n",
      " '钱队长': 6,\n",
      " '阚犇犇': 0,\n",
      " '陆亦可': 130,\n",
      " '陈岩石': 94,\n",
      " '陈文强': 1,\n",
      " '陈海': 95,\n",
      " '陈清泉': 35,\n",
      " '雷警官': 4,\n",
      " '青工乙': 0,\n",
      " '青工甲': 0,\n",
      " '香港女郎': 0,\n",
      " '马文朗': 0,\n",
      " '高小琴': 132,\n",
      " '高育良': 212,\n",
      " '高芳芳': 0,\n",
      " '魏彩霞': 8,\n",
      " '黄薇': 0,\n",
      " '黑头': 0}\n"
     ]
    }
   ],
   "source": [
    "count = {}\n",
    "for name in names:\n",
    "    count[name.strip()] = content.count(name.strip())\n",
    "pprint(count)"
   ],
   "metadata": {
    "collapsed": false,
    "pycharm": {
     "name": "#%%\n"
    }
   }
  },
  {
   "cell_type": "markdown",
   "source": [
    "人物出现次数统计"
   ],
   "metadata": {
    "collapsed": false,
    "pycharm": {
     "name": "#%% md\n"
    }
   }
  },
  {
   "cell_type": "code",
   "execution_count": 4,
   "outputs": [
    {
     "data": {
      "text/plain": "<Figure size 432x288 with 1 Axes>",
      "image/png": "[encoded data removed]"
     },
     "metadata": {
      "needs_background": "light"
     },
     "output_type": "display_data"
    }
   ],
   "source": [
    "count = sorted(count.items(), key=lambda x: x[1])\n",
    "ay, ax = plt.subplots()\n",
    "numbers = [x[1] for x in count[-10:]]\n",
    "names = [x[0] for x in count[-10:]]\n",
    "ax.barh(range(10), numbers, align='center')\n",
    "ax.set_title('出场次数', fontsize=14, fontproperties=font)\n",
    "ax.set_yticks(range(10))\n",
    "ax.set_yticklabels(names, fontsize=14, fontproperties=font)\n",
    "plt.show()"
   ],
   "metadata": {
    "collapsed": false,
    "pycharm": {
     "name": "#%%\n"
    }
   }
  },
  {
   "cell_type": "markdown",
   "source": [
    "分集"
   ],
   "metadata": {
    "collapsed": false,
    "pycharm": {
     "name": "#%% md\n"
    }
   }
  },
  {
   "cell_type": "code",
   "execution_count": 5,
   "outputs": [],
   "source": [
    "episodes = []\n",
    "episode = \"\"\n",
    "for i in content.split('\\n'):\n",
    "    if i == '':\n",
    "        episodes.append(episode)\n",
    "        episode = \"\"\n",
    "    else:\n",
    "        episode += i + ' '"
   ],
   "metadata": {
    "collapsed": false,
    "pycharm": {
     "name": "#%%\n"
    }
   }
  },
  {
   "cell_type": "markdown",
   "source": [
    "出现在同一个句子中的人物视为有关系，并将人物的其他称呼转换为正式称呼"
   ],
   "metadata": {
    "collapsed": false,
    "pycharm": {
     "name": "#%% md\n"
    }
   }
  },
  {
   "cell_type": "code",
   "execution_count": 6,
   "outputs": [
    {
     "name": "stdout",
     "output_type": "stream",
     "text": [
      "['侯亮平',\n",
      " '李达康',\n",
      " '沙瑞金',\n",
      " '吴慧芬',\n",
      " '高育良',\n",
      " '祁同伟',\n",
      " '陆亦可',\n",
      " '钟小艾',\n",
      " '高小琴',\n",
      " '吴惠芬',\n",
      " '欧阳菁',\n",
      " '赵瑞龙',\n",
      " '郑西坡',\n",
      " '赵东来',\n",
      " '梁璐',\n",
      " '季昌明',\n",
      " '程度',\n",
      " '丁义珍',\n",
      " '陈海',\n",
      " '赵德汉',\n",
      " '林华华',\n",
      " '周正',\n",
      " '陈岩石',\n",
      " '刘新建',\n",
      " '蔡成功',\n",
      " '王馥真',\n",
      " '易学习',\n",
      " '田国福',\n",
      " '陈清泉',\n",
      " '刘姗',\n",
      " '陈群芳',\n",
      " '田杏枝',\n",
      " '张宝宝',\n",
      " '郑胜利',\n",
      " '孙连城',\n",
      " '肖钢玉',\n",
      " '吴心怡',\n",
      " '王大路',\n",
      " '秦局长',\n",
      " '周桂春',\n",
      " '王文革',\n",
      " '白处长',\n",
      " '孙海平',\n",
      " '毛娅',\n",
      " '张树立',\n",
      " '吴春林',\n",
      " '马文明',\n",
      " '金秘书',\n",
      " '侯浩然',\n",
      " '常成虎',\n",
      " '小皮球',\n",
      " '汤成兰',\n",
      " '李梁',\n",
      " '毕敬业',\n",
      " '何阿三',\n",
      " '张天峰',\n",
      " '尤瑞星',\n",
      " '陈文强',\n",
      " '杜伯仲',\n",
      " '高小凤',\n",
      " '美女老总',\n",
      " '老程',\n",
      " '师母',\n",
      " '陈老',\n",
      " '老赵',\n",
      " '赵德汉',\n",
      " '达康',\n",
      " '高总',\n",
      " '猴子',\n",
      " '老郑',\n",
      " '小艾',\n",
      " '老师',\n",
      " '同伟',\n",
      " '赵公子',\n",
      " '郑乾',\n",
      " '孙书记',\n",
      " '赵总',\n",
      " '昌明',\n",
      " '沙书记',\n",
      " '郑董',\n",
      " '宝宝',\n",
      " '小高',\n",
      " '老高',\n",
      " '伯仲',\n",
      " '老杜',\n",
      " '老肖',\n",
      " '刘总']\n"
     ]
    }
   ],
   "source": [
    "# print(episodes)\n",
    "with open('./user_name_dict.txt', 'r', encoding='utf-8') as f:\n",
    "    names = f.readlines()\n",
    "names = [i.strip() for i in names]\n",
    "# names = ['侯亮平', '李达康']\n",
    "pprint(names)\n",
    "replace_words = {'师母': '吴慧芬', '陈老': '陈岩石', '老赵': '赵德汉', '达康': '李达康', '高总': '高小琴',\n",
    "                 '猴子': '侯亮平', '老郑': '郑西坡', '小艾': '钟小艾', '老师': '高育良', '同伟': '祁同伟',\n",
    "                 '赵公子': '赵瑞龙', '郑乾': '郑胜利', '孙书记': '孙连城', '赵总': '赵瑞龙', '昌明': '季昌明',\n",
    "                 '沙书记': '沙瑞金', '郑董': '郑胜利', '宝宝': '张宝宝', '小高': '高小凤', '老高': '高育良',\n",
    "                 '伯仲': '杜伯仲', '老杜': '杜伯仲', '老肖': '肖钢玉', '刘总': '刘新建', \"美女老总\": \"高小琴\"}\n",
    "\n",
    "wordcount = len(names)\n",
    "content_word = content.split('\\n')\n",
    "# content_word = episodes\n",
    "relation = [[0 for col in range(wordcount)] for row in range(wordcount)]\n",
    "\n",
    "for col_index in range(len(names)):\n",
    "    for row_index in range(len(names)):\n",
    "        num = 0\n",
    "        for line in content_word:\n",
    "            if names[col_index].strip() in line and names[row_index].strip() in line:\n",
    "                num += 1\n",
    "        tmp_col = col_index\n",
    "        tmp_row = row_index\n",
    "        if names[col_index].strip() in replace_words:\n",
    "            tmp_col = names.index(replace_words[names[col_index].strip()])\n",
    "        if names[row_index].strip() in replace_words:\n",
    "            tmp_row = names.index(replace_words[names[row_index].strip()])\n",
    "        relation[tmp_col][tmp_row] += num"
   ],
   "metadata": {
    "collapsed": false,
    "pycharm": {
     "name": "#%%\n"
    }
   }
  },
  {
   "cell_type": "code",
   "execution_count": 7,
   "outputs": [],
   "source": [
    "cor_matrix = np.matrix(relation)\n",
    "for i in range(len(names)):\n",
    "    cor_matrix[i, i] = 0\n",
    "\n",
    "social_contact = pd.DataFrame(columns=['name1', 'name2', 'frequency'])\n",
    "for i in range(0, len(names)):\n",
    "    for j in range(0, len(names)):\n",
    "        if i < j and relation[i][j] > 0:\n",
    "            social_contact.loc[len(social_contact), 'name1'] = names[i]\n",
    "            social_contact.loc[len(social_contact) - 1, 'name2'] = names[j]\n",
    "            social_contact.loc[len(social_contact) - 1, 'frequency'] = relation[i][j]\n",
    "\n",
    "social_contact.to_csv('social_contact.csv', index=False)"
   ],
   "metadata": {
    "collapsed": false,
    "pycharm": {
     "name": "#%%\n"
    }
   }
  },
  {
   "cell_type": "code",
   "execution_count": 8,
   "outputs": [
    {
     "name": "stdout",
     "output_type": "stream",
     "text": [
      "['郑西坡 得知 护厂 工人 强烈抗议 拆迁 山水集团 找 警察 维持秩序 陈岩石 觉得 经济纠纷 派 警察 赶忙 京州市 警察局长 赵东来 打电话 赵东来 '\n",
      " '长 根本 不知情 肯定 说 假警察',\n",
      " '李达康 短会 接近 尾声 最后 问题 下岗职工 安置 问题 李达康 得知 蔡成功 高小琴 曾经 有过 补充 合同 明确指出 不 安置 工人 李达康 觉得 '\n",
      " '里面 一定 问题 怀疑 蔡成功 勾结 山水集团 转让 股权 嫌疑 李达康 提出 此事 严查',\n",
      " '沙瑞金 陈岩石 讲讲 大风厂 事件 陈岩石 说 都 腐败 结 恶果 山水集团 高小琴 白手起家 几年 时间 达到 几百亿 资产 不是 高小琴 丁义珍 '\n",
      " '关系 好 不到 大风厂 高小琴 五千万 得到 大风厂 价值 十亿 工人 股份 占 百分之四十',\n",
      " '散会 后 赵东来 找 李达康 投诉 激动 地称 高小琴 赚 多钱 不让 钱 山水集团 到底 背景 赵东来 不能 动用 维稳 资金 主动 要求 辞职 '\n",
      " '李达康 无奈 苦笑 答应 想 办法 解决 一千万 李达康 已经 请 两个 律师 去 好好 查一查 大风厂 权益 问题',\n",
      " '后来 蔡成功 过桥 贷款 方式 山水集团 贷 五千万 高利贷 用于 大风厂 生产 约定 六天 时间 还清 大风厂 全部 股权 做 抵押 欧阳菁 取消 '\n",
      " '蔡成功 事先 预约 贷款',\n",
      " '三个 月 以后 京州 人民法院 抵押 协议 大风厂 全部 股权 判给 山水集团 工人 恨 蔡成功 以为 勾结 高小琴 骗 大家',\n",
      " '郑乾 劝说 郑西坡 在家 颐养天年 以后 家 针对 大风厂 职工 股份 问题 多方 咨询 持股 职工 不能 告 山水集团 只能 告 蔡成功 必须 承认 '\n",
      " '没有 职工 同意 抵押 股权',\n",
      " '郑西坡 告诉 蔡成功 政府 明天 派 工作组 律师 进入 大风厂 帮 打官司 起诉 山水集团',\n",
      " '欧阳菁 冷笑 那点 工资 能够 负担 孩子 美国 费用 最后 欧阳菁 答应 李达康 离婚 条件 山水集团 项目 大路 集团 王大路',\n",
      " '高小琴 李达康 决定 非常 愤怒 山水集团 政府 垫付 大风厂 钱 还 土地 重新 招拍 挂',\n",
      " '侯亮平 大家 一起 总结 这次 审讯 觉得 侦查 方向 错 六 背后 腐败问题 职务犯罪 问题 依然 存在 蔡成功 丁义珍 存在 勾结 现象 陆亦可 却 '\n",
      " '反驳 侯亮平 觉得 高小琴 山水集团 受害者 没有 证据 显示 山水集团 问题 侯亮平 提醒 丁义珍 逃跑 所有 罪名 都 落 头上 目前 掌握 一部分 '\n",
      " '真相 不是 所有',\n",
      " '程度 担心 刘新建 山水集团 七亿 资金 会出 问题 赵瑞龙 觉得 不 保险 现在 风声鹤唳 不得不 防',\n",
      " '蔡成功 2010 年 过桥 款 一个亿 十天 利息 三百万 欧阳菁 城市 银行 得到 一百万 福利 分给 员工 两百万 蔡成功 山水集团 这笔 钱 是从 '\n",
      " '城市 银行 汉口路 支行 转走',\n",
      " '九 十四万 山水集团',\n",
      " '林华华 追问 银行 蔡成功 断贷 以后 油汽 集团 受 损失 算 蔡成功 交代 下 套 油汽 集团 钱 山水集团',\n",
      " '魏彩霞 得知 刘 庆祝 举报电话 遇害 真的 不 知道 刘 庆祝 电话 里 说 账本 只 知道 刘 庆祝 丁义珍 逃跑 以后 害怕 魂不守舍 还 嘀咕 '\n",
      " '山水集团 高小琴 早晚 会 出事',\n",
      " '魏彩霞 听到 刘 庆祝 去世 消息 以后 认为 杀人灭口 害怕 山水集团 势力 高育良 撑腰 赵立春 儿子 女儿 股份',\n",
      " '审讯 结束 赵东来 告诉 魏彩霞 不要 今天 事情 透露 任何人 尤其 山水集团 人 检察院 人会 去 找 核实 情况 请 配合',\n",
      " '刘新建 酒庄 没 兴趣 随口 提到 老本行 油矿 赵瑞龙 马上 建议 去 非洲 开矿 丁义珍 开 金矿 正 需要 人手 刘新建 才 意识 赵瑞龙 想 '\n",
      " '提醒 出去 躲避 却 不以为然 认为 蔡成功 过桥 资金 最多算 违纪 更何况 过桥 利息 都 职工 福利 分 刘新建 更 担心 放在 山水集团 七个 '\n",
      " '亿 赵瑞龙 嘱咐 当做 油汽 集团 正常 投资',\n",
      " '侯亮平 此次 冒险 山水集团 老底 摸 透 得知 这是 官商勾结 黑幕重重 犯罪团伙',\n",
      " '祁同伟 已经 承认 山水集团 股份 侯亮平 手机 录音笔 都 收 没有 取得 证据 只能 刘新建 身上 找 突破口 山水集团 赵瑞龙 家族 连接点 '\n",
      " '侯亮平 准备 连夜 突击 审讯 刘新建 不让 喘息 机会',\n",
      " '陈岩石 继续 语重心长 劝说 王文革 援助 律师 非常 负责 山水集团 谈判 交涉 谈得 很 艰难 现在 马上 就要 解决 王文革 坚持 律师 拿来 '\n",
      " '股权 协议书 看 坚决 不 相信',\n",
      " '这时候 陈岩石 接到 钱律师 电话 高小琴 已经 同意 签订 和解书 正在 赶往 山水集团 路上 陈岩石 反复 叮嘱 签完 手续 立刻 发到 手机 上 '\n",
      " '陈岩石 回过 身劝 王文革 仍然 坚持 当面 见到 协议书 陈岩石 无奈 提出 进去 人质 换 出 蔡英俊 王文革 蔡英俊 推出 一把 陈岩石 拽 进去 '\n",
      " '刀架 陈岩石 脖子 上']\n"
     ]
    }
   ],
   "source": [
    "text = []\n",
    "\n",
    "for line in content_word:\n",
    "    if '山水集团' in line:\n",
    "        text.append(line)\n",
    "\n",
    "pprint(text)"
   ],
   "metadata": {
    "collapsed": false,
    "pycharm": {
     "name": "#%%\n"
    }
   }
  },
  {
   "cell_type": "code",
   "execution_count": 9,
   "outputs": [
    {
     "name": "stderr",
     "output_type": "stream",
     "text": [
      "Building prefix dict from the default dictionary ...\n",
      "Loading model from cache C:\\Users\\rycbar\\AppData\\Local\\Temp\\jieba.cache\n",
      "Loading model cost 1.277 seconds.\n",
      "Prefix dict has been built successfully.\n"
     ]
    },
    {
     "name": "stdout",
     "output_type": "stream",
     "text": [
      "['山水集团',\n",
      " '蔡成功',\n",
      " '陈岩石',\n",
      " '高小琴',\n",
      " '大风厂',\n",
      " '李达康',\n",
      " '侯亮平',\n",
      " '刘新建',\n",
      " '赵东来',\n",
      " '丁义珍',\n",
      " '赵瑞龙',\n",
      " '欧阳菁',\n",
      " '王文革',\n",
      " '过桥',\n",
      " '郑西坡',\n",
      " '油汽',\n",
      " '律师',\n",
      " '庆祝',\n",
      " '问题',\n",
      " '彩霞']\n"
     ]
    }
   ],
   "source": [
    "import jieba\n",
    "from jieba import analyse\n",
    "\n",
    "jieba.load_userdict(\"./user_name_dict.txt\")\n",
    "jieba.load_userdict(\"./user_place_dict.txt\")\n",
    "sentence = \" \".join(text)\n",
    "keywords = analyse.extract_tags(sentence, topK=20)\n",
    "pprint(keywords)"
   ],
   "metadata": {
    "collapsed": false,
    "pycharm": {
     "name": "#%%\n"
    }
   }
  },
  {
   "cell_type": "code",
   "execution_count": 10,
   "outputs": [
    {
     "name": "stdout",
     "output_type": "stream",
     "text": [
      "array([-0.03179613,  0.10182843,  0.01152786,  0.07793745,  0.04429642,\n",
      "       -0.2901609 ,  0.07843419,  0.35246113, -0.1090978 , -0.08547769,\n",
      "       -0.07979131, -0.20420307, -0.1502633 , -0.04623213, -0.02135815,\n",
      "       -0.11342517,  0.00806131, -0.235532  ,  0.01063696, -0.42212093,\n",
      "        0.16126326,  0.16041778,  0.12392271, -0.10792834, -0.06015193,\n",
      "        0.05832294, -0.13781941, -0.06911182, -0.14029384,  0.09104802,\n",
      "        0.17322704,  0.0489555 ,  0.07605336, -0.04045817, -0.15645784,\n",
      "        0.25486362,  0.02393764, -0.1668981 , -0.12488644, -0.32792345,\n",
      "        0.03300639, -0.24225011, -0.14043377, -0.04449811,  0.17809013,\n",
      "       -0.05013553, -0.18505223, -0.07525443,  0.1296155 ,  0.12312587,\n",
      "        0.05157623, -0.19025606,  0.02292922, -0.01219451, -0.09325591,\n",
      "        0.14984311,  0.00335542,  0.02271255, -0.2213108 ,  0.04305127,\n",
      "        0.0326754 ,  0.01004403,  0.00651105, -0.16952457, -0.14183989,\n",
      "        0.16654664,  0.09263804,  0.25918344, -0.27115074,  0.20267315,\n",
      "       -0.17738807,  0.02347816,  0.15146005, -0.03536522,  0.08411295,\n",
      "        0.02492702,  0.00170007, -0.02001139, -0.14058791,  0.16699664,\n",
      "       -0.12258803, -0.06799848, -0.20497797,  0.24868727, -0.05194937,\n",
      "       -0.07071898, -0.03686699,  0.21716192,  0.13787894,  0.04481265,\n",
      "        0.2727006 ,  0.11392556, -0.03112511,  0.00710349,  0.21905378,\n",
      "        0.24269688,  0.16297804, -0.08005581,  0.00335565, -0.00441349],\n",
      "      dtype=float32)\n",
      "不 0.9990391135215759\n",
      "侯亮平 0.9990159273147583\n",
      "问题 0.9989653825759888\n",
      "高育良 0.9989537000656128\n",
      "李达康 0.9989476203918457\n",
      "都 0.9989428520202637\n",
      "去 0.9989333748817444\n",
      "高小琴 0.9989268779754639\n",
      "人 0.998879075050354\n",
      "祁同伟 0.9988773465156555\n",
      "很 0.9988704919815063\n",
      "大风厂 0.9988601207733154\n",
      "丁义珍 0.9988393783569336\n",
      "陆亦可 0.9988188743591309\n",
      "才 0.998796284198761\n",
      "陈海 0.9987888932228088\n",
      "赵瑞龙 0.9987813830375671\n",
      "蔡成功 0.9987703561782837\n",
      "上 0.9987703561782837\n",
      "陈岩石 0.9987688660621643\n"
     ]
    },
    {
     "name": "stderr",
     "output_type": "stream",
     "text": [
      "c:\\users\\rycbar\\appdata\\local\\programs\\python\\python39\\lib\\site-packages\\gensim\\similarities\\__init__.py:15: UserWarning: The gensim.similarities.levenshtein submodule is disabled, because the optional Levenshtein package <https://pypi.org/project/python-Levenshtein/> is unavailable. Install Levenhstein (e.g. `pip install python-Levenshtein`) to suppress this warning.\n",
      "  warnings.warn(msg)\n"
     ]
    }
   ],
   "source": [
    "import gensim\n",
    "\n",
    "sentences = [i.split(' ') for i in content_word]\n",
    "\n",
    "model = gensim.models.Word2Vec(sentences, vector_size=100, window=5, min_count=5, workers=4)\n",
    "\n",
    "pprint(model.wv['山水集团'])\n",
    "\n",
    "for k, s in model.wv.most_similar(positive=['山水集团'], topn=20):\n",
    "    print(k, s)"
   ],
   "metadata": {
    "collapsed": false,
    "pycharm": {
     "name": "#%%\n"
    }
   }
  },
  {
   "cell_type": "code",
   "execution_count": 11,
   "outputs": [
    {
     "name": "stdout",
     "output_type": "stream",
     "text": [
      "PageRank:\n",
      "[('赵德汉', 0.1615248379968378),\n",
      " ('尤瑞星', 0.07555119224817103),\n",
      " ('蔡成功', 0.04845464520029051),\n",
      " ('郑胜利', 0.04070940062832761),\n",
      " ('张树立', 0.037479658773209426),\n",
      " ('小皮球', 0.02740341119880509),\n",
      " ('肖钢玉', 0.024084742294496555),\n",
      " ('汤成兰', 0.02330278459620981),\n",
      " ('毛娅', 0.02327778077796117),\n",
      " ('陈清泉', 0.02292079574923944),\n",
      " ('陈岩石', 0.02208117405572353),\n",
      " ('陈海', 0.021581160110470142),\n",
      " ('孙海平', 0.019182937363188435),\n",
      " ('刘新建', 0.017990517731422656),\n",
      " ('丁义珍', 0.01781955850048483),\n",
      " ('马文明', 0.017551381731224953),\n",
      " ('祁同伟', 0.01746016956561701),\n",
      " ('陈群芳', 0.0165895332596003),\n",
      " ('季昌明', 0.01655062758811033),\n",
      " ('王文革', 0.015937541809673404),\n",
      " ('吴心怡', 0.015710759278363864),\n",
      " ('周正', 0.015398965301985108),\n",
      " ('杜伯仲', 0.014809427190755703),\n",
      " ('赵瑞龙', 0.014713426876718706),\n",
      " ('林华华', 0.014677282854813314),\n",
      " ('高小琴', 0.012887827103605127),\n",
      " ('王大路', 0.01234181445592908),\n",
      " ('梁璐', 0.011974468140771865),\n",
      " ('赵东来', 0.011752904112296368),\n",
      " ('高育良', 0.011659672161419662),\n",
      " ('程度', 0.011243867788306222),\n",
      " ('王馥真', 0.011029900915483852),\n",
      " ('高小凤', 0.01100440726526491),\n",
      " ('常成虎', 0.01080678024092831),\n",
      " ('孙连城', 0.01066571171288452),\n",
      " ('陈文强', 0.010457370496160742),\n",
      " ('易学习', 0.010409952015166759),\n",
      " ('张宝宝', 0.01002403577938505),\n",
      " ('吴惠芬', 0.009988125318570119),\n",
      " ('欧阳菁', 0.009433470933173234),\n",
      " ('钟小艾', 0.009358502847597934),\n",
      " ('侯浩然', 0.009342303690389065),\n",
      " ('吴春林', 0.008750892937831066),\n",
      " ('陆亦可', 0.008555112561445238),\n",
      " ('沙瑞金', 0.008413077954895584),\n",
      " ('何阿三', 0.008238706673719674),\n",
      " ('毕敬业', 0.008157616560824131),\n",
      " ('郑西坡', 0.008021441256793447),\n",
      " ('李达康', 0.007772834856463436),\n",
      " ('吴慧芬', 0.00747697139044014),\n",
      " ('侯亮平', 0.00746851814855376)]\n"
     ]
    }
   ],
   "source": [
    "import networkx as nx\n",
    "\n",
    "G = nx.DiGraph()\n",
    "\n",
    "for i in range(0, len(names)):\n",
    "    for j in range(0, len(names)):\n",
    "        if i < j and relation[i][j] > 0:\n",
    "            G.add_weighted_edges_from([(names[i], names[j], relation[i][j])])\n",
    "\n",
    "pagerank_list = nx.pagerank(G, max_iter=1000)\n",
    "pagerank_list = sorted(pagerank_list.items(), key=lambda item: -item[1])\n",
    "print(\"PageRank:\")\n",
    "pprint(pagerank_list)"
   ],
   "metadata": {
    "collapsed": false,
    "pycharm": {
     "name": "#%%\n"
    }
   }
  }
 ],
 "metadata": {
  "kernelspec": {
   "display_name": "Python 3",
   "language": "python",
   "name": "python3"
  },
  "language_info": {
   "codemirror_mode": {
    "name": "ipython",
    "version": 2
   },
   "file_extension": ".py",
   "mimetype": "text/x-python",
   "name": "python",
   "nbconvert_exporter": "python",
   "pygments_lexer": "ipython2",
   "version": "2.7.6"
  }
 },
 "nbformat": 4,
 "nbformat_minor": 0
}